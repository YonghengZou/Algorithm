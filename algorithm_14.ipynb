{
  "nbformat": 4,
  "nbformat_minor": 0,
  "metadata": {
    "colab": {
      "name": "algorithm_14.ipynb",
      "provenance": [],
      "collapsed_sections": [],
      "toc_visible": true,
      "authorship_tag": "ABX9TyOoOwWCm3VwTt23dslhQMQd",
      "include_colab_link": true
    },
    "kernelspec": {
      "name": "python3",
      "display_name": "Python 3"
    },
    "language_info": {
      "name": "python"
    }
  },
  "cells": [
    {
      "cell_type": "markdown",
      "metadata": {
        "id": "view-in-github",
        "colab_type": "text"
      },
      "source": [
        "<a href=\"https://colab.research.google.com/github/YonghengZou/Algorithm/blob/main/algorithm_14.ipynb\" target=\"_parent\"><img src=\"https://colab.research.google.com/assets/colab-badge.svg\" alt=\"Open In Colab\"/></a>"
      ]
    },
    {
      "cell_type": "markdown",
      "metadata": {
        "id": "CjCTK_muGjmi"
      },
      "source": [
        "# Binary search O(logn)\n",
        "Given an array of integers nums which is sorted in ascending order, and an integer target, write a function to search target in nums. If target exists, then return its index. Otherwise, return -1.\n",
        "\n",
        "You must write an algorithm with O(log n) runtime complexity."
      ]
    },
    {
      "cell_type": "code",
      "metadata": {
        "id": "GMVb8MQZGk7-"
      },
      "source": [
        "class solution:\n",
        "  def __init__(self, num, target):\n",
        "    self.num = num\n",
        "    self.target = target\n",
        "\n",
        "  def search(self):\n",
        "    left = 0\n",
        "    right = len(num)-1\n",
        "    while(left<=right):\n",
        "      pivot = (left + right)//2\n",
        "      if num[pivot]==target:\n",
        "        return pivot\n",
        "      if num[pivot]>target:\n",
        "        left = pivot + 1\n",
        "      else:\n",
        "        right = pivot - 1\n",
        "\n",
        "    return -1"
      ],
      "execution_count": null,
      "outputs": []
    },
    {
      "cell_type": "code",
      "metadata": {
        "colab": {
          "base_uri": "https://localhost:8080/"
        },
        "id": "P1QppqrZJubO",
        "outputId": "b403fc41-8fe1-4455-bb96-1c272cbdaf09"
      },
      "source": [
        "# test\n",
        "num = [-1,0,3,5,9,12]\n",
        "target = 3\n",
        "\n",
        "s = solution(num, target)\n",
        "s.search()"
      ],
      "execution_count": null,
      "outputs": [
        {
          "output_type": "execute_result",
          "data": {
            "text/plain": [
              "2"
            ]
          },
          "metadata": {},
          "execution_count": 65
        }
      ]
    },
    {
      "cell_type": "markdown",
      "metadata": {
        "id": "pdJsMQIDTZqc"
      },
      "source": [
        "# First bad version\n",
        "You are a product manager and currently leading a team to develop a new product. Unfortunately, the latest version of your product fails the quality check. Since each version is developed based on the previous version, all the versions after a bad version are also bad.\n",
        "\n",
        "Suppose you have n versions [1, 2, ..., n] and you want to find out the first bad one, which causes all the following ones to be bad.\n",
        "\n",
        "You are given an API bool isBadVersion(version) which returns whether version is bad. Implement a function to find the first bad version. You should minimize the number of calls to the API."
      ]
    },
    {
      "cell_type": "code",
      "metadata": {
        "id": "1A-0iB7xb7S_"
      },
      "source": [
        "class solution:\n",
        "  def __init__(self, num):\n",
        "    self.num = num\n",
        "  def search_bad(self):\n",
        "    start = 0\n",
        "    end = len(num) - 1\n",
        "\n",
        "    while start<end:\n",
        "\n",
        "      mid = (start+end)//2\n",
        "      if isBadVersion(mid)==False:\n",
        "        start = mid + 1\n",
        "      else:\n",
        "        end = mid\n",
        "    \n",
        "    return end\n",
        "\n",
        "def isBadVersion(version):\n",
        "  if version==0 or version==1 or version==2 or version==3:\n",
        "    return False\n",
        "  else:\n",
        "    return True\n"
      ],
      "execution_count": null,
      "outputs": []
    },
    {
      "cell_type": "code",
      "metadata": {
        "id": "FD8AKymLcC9t",
        "colab": {
          "base_uri": "https://localhost:8080/"
        },
        "outputId": "3e4ea65f-fca3-46d7-bff8-248ae586f652"
      },
      "source": [
        "num = [0, 1, 2, 3, 4, 5, 6, 7]\n",
        "s = solution(num)\n",
        "\n",
        "s.search_bad()"
      ],
      "execution_count": null,
      "outputs": [
        {
          "output_type": "execute_result",
          "data": {
            "text/plain": [
              "4"
            ]
          },
          "metadata": {},
          "execution_count": 95
        }
      ]
    },
    {
      "cell_type": "code",
      "metadata": {
        "colab": {
          "base_uri": "https://localhost:8080/"
        },
        "id": "fGgQR51oeaH1",
        "outputId": "78b6cef7-1938-428d-f021-4c7841a549f3"
      },
      "source": [
        "0==1 or 1==1"
      ],
      "execution_count": null,
      "outputs": [
        {
          "output_type": "execute_result",
          "data": {
            "text/plain": [
              "True"
            ]
          },
          "metadata": {},
          "execution_count": 89
        }
      ]
    },
    {
      "cell_type": "markdown",
      "metadata": {
        "id": "zXuRJhj5gxI-"
      },
      "source": [
        "# Search Insert Position\n",
        "Given a sorted array of distinct integers and a target value, return the index if the target is found. If not, return the index where it would be if it were inserted in order.\n",
        "\n",
        "You must write an algorithm with O(log n) runtime complexity."
      ]
    },
    {
      "cell_type": "code",
      "metadata": {
        "id": "BbZuivM0g19g"
      },
      "source": [
        "class solution:\n",
        "  def __init__(self, nums, target):\n",
        "    self.nums = nums\n",
        "    self.target = target\n",
        "  def search(self):\n",
        "    start = 0\n",
        "    end = len(nums) - 1\n",
        "\n",
        "    if target<nums[start]:\n",
        "      return 0\n",
        "    elif nums[start]<=target and num[end]>=target:\n",
        "      while start<end:\n",
        "        mid = (start + end)//2\n",
        "        if nums[mid]==target:\n",
        "          return mid\n",
        "        if nums[mid]>target:\n",
        "          end = mid - 1\n",
        "        else:\n",
        "          start = mid + 1\n",
        "\n",
        "      return start+1\n",
        "    else:\n",
        "      return end+1"
      ],
      "execution_count": null,
      "outputs": []
    },
    {
      "cell_type": "code",
      "metadata": {
        "colab": {
          "base_uri": "https://localhost:8080/"
        },
        "id": "A49m2E0e1a2C",
        "outputId": "6a1251c6-9ed7-4217-8b70-27d6933945d2"
      },
      "source": [
        "nums = [1,2,3,4,6,7]\n",
        "target = 5\n",
        "s = solution(nums, target)\n",
        "s.search()"
      ],
      "execution_count": null,
      "outputs": [
        {
          "output_type": "execute_result",
          "data": {
            "text/plain": [
              "4"
            ]
          },
          "metadata": {},
          "execution_count": 109
        }
      ]
    },
    {
      "cell_type": "markdown",
      "metadata": {
        "id": "p7sJ89p1_U9O"
      },
      "source": [
        "# Squares of a Sorted Array\n",
        "Given an integer array nums sorted in non-decreasing order, return an array of the squares of each number sorted in non-decreasing order."
      ]
    },
    {
      "cell_type": "code",
      "metadata": {
        "id": "77Xq9VmV_YgO"
      },
      "source": [
        "class solution:\n",
        "  def __init__(self, nums):\n",
        "    self.nums = nums\n",
        "  def square_sorted(self):\n",
        "    n = len(nums)\n",
        "    sorted_sqaure = []\n",
        "\n",
        "    for mid in range(n): \n",
        "      if nums[mid]>=0:\n",
        "        break\n",
        "    \n",
        "    left = mid-1\n",
        "    right = mid\n",
        "\n",
        "    while (left>=0 and right<=n-1):\n",
        "      if abs(nums[left])<=abs(nums[right]):\n",
        "        sorted_sqaure.append(nums[left]**2)\n",
        "        left = left - 1\n",
        "      else: \n",
        "        sorted_sqaure.append(nums[right]**2)\n",
        "        right = right + 1\n",
        "      \n",
        "    while left>=0:\n",
        "      sorted_sqaure.append(nums[left]**2)\n",
        "      left = left - 1\n",
        "\n",
        "    while right<=n-1:\n",
        "      sorted_sqaure.append(nums[right]**2)\n",
        "      right = right + 1\n",
        "\n",
        "    return sorted_sqaure\n"
      ],
      "execution_count": null,
      "outputs": []
    },
    {
      "cell_type": "code",
      "metadata": {
        "colab": {
          "base_uri": "https://localhost:8080/"
        },
        "id": "3cArAVcIE97L",
        "outputId": "c118a245-e14f-49f3-882f-8c121ecc556a"
      },
      "source": [
        "n = [-3,-2,0,1,3,4]\n",
        "\n",
        "s = solution(n)\n",
        "s.square_sorted()"
      ],
      "execution_count": null,
      "outputs": [
        {
          "output_type": "execute_result",
          "data": {
            "text/plain": [
              "[1, 4, 9, 16, 36, 49]"
            ]
          },
          "metadata": {},
          "execution_count": 147
        }
      ]
    },
    {
      "cell_type": "markdown",
      "metadata": {
        "id": "6OQTX2NSLuEG"
      },
      "source": [
        "# Rotate Array\n",
        "Given an array, rotate the array to the right by k steps, where k is non-negative."
      ]
    },
    {
      "cell_type": "code",
      "metadata": {
        "id": "cDqk3yZ9L-xk"
      },
      "source": [
        "class solution:\n",
        "  def __init__(self, nums, k):\n",
        "    self.nums = nums\n",
        "    self.k = k\n",
        "\n",
        "  def rotate(self):\n",
        "    reverse(0, len(nums)-1)\n",
        "    reverse(0, k-1)\n",
        "    reverse(k, len(nums)-1)\n",
        "    return nums\n",
        "\n",
        "def reverse(start, end):\n",
        "  while start<end:\n",
        "    t = nums[start]\n",
        "    nums[start] = nums[end]\n",
        "    nums[end] = t\n",
        "    start = start+1\n",
        "    end = end - 1\n"
      ],
      "execution_count": null,
      "outputs": []
    },
    {
      "cell_type": "code",
      "metadata": {
        "colab": {
          "base_uri": "https://localhost:8080/"
        },
        "id": "XsdlsxLTMMgY",
        "outputId": "ce41fd21-fd6a-48cf-8f5b-9805f3e1a010"
      },
      "source": [
        "nums = [1,2,3,4,5,6,7] \n",
        "k = 3\n",
        "s = solution(nums, k)\n",
        "s.rotate()"
      ],
      "execution_count": null,
      "outputs": [
        {
          "output_type": "execute_result",
          "data": {
            "text/plain": [
              "[5, 6, 7, 1, 2, 3, 4]"
            ]
          },
          "metadata": {},
          "execution_count": 165
        }
      ]
    },
    {
      "cell_type": "markdown",
      "metadata": {
        "id": "7c635SqJ_Pbe"
      },
      "source": [
        "#  Move Zeroes\n",
        "Given an integer array nums, move all 0's to the end of it while maintaining the relative order of the non-zero elements.\n",
        "\n",
        "Note that you must do this in-place without making a copy of the array."
      ]
    },
    {
      "cell_type": "code",
      "metadata": {
        "id": "h0A-6bph_VtI"
      },
      "source": [
        "class solution:\n",
        "  def __init__(self, nums):\n",
        "    self.nums = nums\n",
        "  def moveZero():\n",
        "    n = len(nums)\n",
        "\n",
        "    for i in range(n):\n",
        "      if nums(i) !=0:\n",
        "        "
      ],
      "execution_count": null,
      "outputs": []
    }
  ]
}