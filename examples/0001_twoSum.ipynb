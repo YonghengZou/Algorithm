{
  "nbformat": 4,
  "nbformat_minor": 0,
  "metadata": {
    "colab": {
      "name": "0001_twoSum.ipynb",
      "provenance": [],
      "collapsed_sections": [],
      "toc_visible": true,
      "authorship_tag": "ABX9TyMye4yjq9C8NavlV2O8LVYX"
    },
    "kernelspec": {
      "name": "python3",
      "display_name": "Python 3"
    },
    "language_info": {
      "name": "python"
    }
  },
  "cells": [
    {
      "cell_type": "markdown",
      "metadata": {
        "id": "DLPLbC-aSzxQ"
      },
      "source": [
        "# 1. Two sum\n",
        "Author: Yongheng Zou\n",
        "\n",
        "Date: 2021.11.20\n"
      ]
    },
    {
      "cell_type": "markdown",
      "metadata": {
        "id": "v4yYXFABVXFL"
      },
      "source": [
        "Given an array of integers nums and an integer target, return indices of the two numbers such that they add up to target.\n",
        "\n",
        "You may assume that each input would have exactly one solution, and you may not use the same element twice.\n",
        "\n",
        "You can return the answer in any order."
      ]
    },
    {
      "cell_type": "markdown",
      "metadata": {
        "id": "PaQaTZpgVc0j"
      },
      "source": [
        "## 1. Generate random list\n",
        "First, I created a function to generate a list of integers that can be used as the input of two sum function."
      ]
    },
    {
      "cell_type": "code",
      "metadata": {
        "id": "6DMMbKf0TD56"
      },
      "source": [
        "import random\n",
        "\n",
        "def generate_ran_list(low, high, n):\n",
        "  \"\"\"\n",
        "  Funtion to generate a random list of integers.\n",
        "  input: low: low boundary\n",
        "         high: high boundary\n",
        "         n: size of the list\n",
        "  output: random_list: return a random list to integers\n",
        "  \"\"\"\n",
        "\n",
        "  random_list = []\n",
        "\n",
        "  for i in range(n):\n",
        "    random_list.append(random.randint(low, high))\n",
        "\n",
        "  return random_list\n"
      ],
      "execution_count": 1,
      "outputs": []
    },
    {
      "cell_type": "markdown",
      "metadata": {
        "id": "1AIo-Dk9ieqe"
      },
      "source": [
        "## 2. Solutions"
      ]
    },
    {
      "cell_type": "code",
      "metadata": {
        "id": "VtGXhxqZWJYq"
      },
      "source": [
        "class solution:\n",
        "  \n",
        "  def __init__(self, nums, target):\n",
        "    self.nums = nums\n",
        "    self.target = target\n",
        "  \n",
        "  def method(self):\n",
        "    '''\n",
        "    Function based on brute force method \n",
        "    to find the indexes of two numbers the sum of whoes values equals to the target.\n",
        "    \n",
        "    Time complexity: O(n^2)\n",
        "    \n",
        "    output: return two index of the certain numbers\n",
        "    '''\n",
        "    for i in range(len(nums)):\n",
        "      for j in range(i+1, len(nums)):\n",
        "        if nums[i]+nums[j]==target:\n",
        "          return [i, j]\n",
        "  \n",
        "  def method2(self):\n",
        "    \"\"\"\n",
        "    Function based on hashtable mathod.\n",
        "\n",
        "    Time complexity: O(n)\n",
        "\n",
        "    output: return two index of the certain numbers\n",
        "    \"\"\"\n",
        "    ht = {}\n",
        "    for i in range(len(nums)):\n",
        "      ht[nums[i]] = i\n",
        "    for i in range(len(nums)):\n",
        "      # Note: for this step, \"if -- in --\" takes O(1) time complexity \n",
        "      # you could regard \"target-i\" as a key which can directly mapped to the certain\n",
        "      # hash bucket\n",
        "      remindar = target-nums[i]\n",
        "      # check whether remindar is a key of our hashmap which will take O(1) time complexity\n",
        "      if remindar in ht:\n",
        "        # the index of minute and of remaindar can not be the same\n",
        "        if i != ht[remindar]:\n",
        "          return[i, ht[remindar]]"
      ],
      "execution_count": 113,
      "outputs": []
    },
    {
      "cell_type": "markdown",
      "metadata": {
        "id": "EH3H9ML7QYWq"
      },
      "source": [
        "## 3. Test"
      ]
    },
    {
      "cell_type": "code",
      "metadata": {
        "id": "RewARK44XO0Q"
      },
      "source": [
        "nums = generate_ran_list(1, 10, 10)\n",
        "target = random.randint(8, 14)\n"
      ],
      "execution_count": 117,
      "outputs": []
    },
    {
      "cell_type": "code",
      "metadata": {
        "colab": {
          "base_uri": "https://localhost:8080/"
        },
        "id": "1cPl0hKofSYQ",
        "outputId": "e2ec1cba-6029-485c-a624-a133a13ba6be"
      },
      "source": [
        "solution(nums, target).method()"
      ],
      "execution_count": 120,
      "outputs": [
        {
          "output_type": "execute_result",
          "data": {
            "text/plain": [
              "[3, 8]"
            ]
          },
          "metadata": {},
          "execution_count": 120
        }
      ]
    },
    {
      "cell_type": "code",
      "metadata": {
        "id": "9NXiJdy-fTZP",
        "colab": {
          "base_uri": "https://localhost:8080/"
        },
        "outputId": "9f5fd02a-7642-4ac1-c94b-77c05fcfac86"
      },
      "source": [
        "solution(nums, target).method2()"
      ],
      "execution_count": 121,
      "outputs": [
        {
          "output_type": "execute_result",
          "data": {
            "text/plain": [
              "[3, 8]"
            ]
          },
          "metadata": {},
          "execution_count": 121
        }
      ]
    },
    {
      "cell_type": "markdown",
      "metadata": {
        "id": "zD2omwyzQlWq"
      },
      "source": [
        "## 4. Appedix "
      ]
    },
    {
      "cell_type": "markdown",
      "metadata": {
        "id": "C4zwjs-IRJIX"
      },
      "source": [
        "### \"if continue\" usage for hashtable"
      ]
    },
    {
      "cell_type": "code",
      "metadata": {
        "colab": {
          "base_uri": "https://localhost:8080/"
        },
        "id": "BtpScg78QsMC",
        "outputId": "325f948a-2e62-4212-bdfd-4f644b4885bc"
      },
      "source": [
        "for i in \"python\":\n",
        "  if i=='p' or i=='n':\n",
        "    continue\n",
        "  print(i) "
      ],
      "execution_count": 122,
      "outputs": [
        {
          "output_type": "stream",
          "name": "stdout",
          "text": [
            "y\n",
            "t\n",
            "h\n",
            "o\n"
          ]
        }
      ]
    },
    {
      "cell_type": "code",
      "metadata": {
        "id": "Es4KwlWqRQWf"
      },
      "source": [
        "li = ['a', 'a', 'b', 'c', 'a', 'd', 'd']\n",
        "\n",
        "ht = {}\n",
        "\n",
        "for i in range(len(li)):\n",
        "  if li[i] in ht:\n",
        "    continue\n",
        "  ht[li[i]] = i"
      ],
      "execution_count": 131,
      "outputs": []
    },
    {
      "cell_type": "code",
      "metadata": {
        "colab": {
          "base_uri": "https://localhost:8080/"
        },
        "id": "IeMQ7dj8Sac9",
        "outputId": "cc0eee2b-357e-489a-a123-40fa09e92e17"
      },
      "source": [
        "ht"
      ],
      "execution_count": 132,
      "outputs": [
        {
          "output_type": "execute_result",
          "data": {
            "text/plain": [
              "{'a': 0, 'b': 2, 'c': 3, 'd': 5}"
            ]
          },
          "metadata": {},
          "execution_count": 132
        }
      ]
    }
  ]
}