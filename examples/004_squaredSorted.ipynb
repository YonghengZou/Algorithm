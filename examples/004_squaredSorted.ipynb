{
  "nbformat": 4,
  "nbformat_minor": 0,
  "metadata": {
    "colab": {
      "name": "004_squaredSorted.ipynb",
      "provenance": [],
      "collapsed_sections": [],
      "toc_visible": true,
      "authorship_tag": "ABX9TyNCIpv8Gw2dLq1Ah1MGjqdj",
      "include_colab_link": true
    },
    "kernelspec": {
      "name": "python3",
      "display_name": "Python 3"
    },
    "language_info": {
      "name": "python"
    }
  },
  "cells": [
    {
      "cell_type": "markdown",
      "metadata": {
        "id": "view-in-github",
        "colab_type": "text"
      },
      "source": [
        "<a href=\"https://colab.research.google.com/github/YonghengZou/Algorithm/blob/main/examples/004_squaredSorted.ipynb\" target=\"_parent\"><img src=\"https://colab.research.google.com/assets/colab-badge.svg\" alt=\"Open In Colab\"/></a>"
      ]
    },
    {
      "cell_type": "markdown",
      "metadata": {
        "id": "WtjXxySBqSFS"
      },
      "source": [
        "# Squares of a Sorted Array\n",
        "Given an integer array nums sorted in non-decreasing order, return an array of the squares of each number sorted in non-decreasing order."
      ]
    },
    {
      "cell_type": "code",
      "metadata": {
        "id": "kpC0ujwoqS7N"
      },
      "source": [
        "class solution:\n",
        "  def square_sorted(self, nums):\n",
        "    n = len(nums)\n",
        "    sorted_sqaure = []\n",
        "\n",
        "    for mid in range(n): \n",
        "      if nums[mid]>=0:\n",
        "        break\n",
        "    \n",
        "    left = mid-1\n",
        "    right = mid\n",
        "\n",
        "    while (left>=0 and right<=n-1):\n",
        "      if abs(nums[left])<=abs(nums[right]):\n",
        "        sorted_sqaure.append(nums[left]**2)\n",
        "        left = left - 1\n",
        "      else: \n",
        "        sorted_sqaure.append(nums[right]**2)\n",
        "        right = right + 1\n",
        "      \n",
        "    while left>=0:\n",
        "      sorted_sqaure.append(nums[left]**2)\n",
        "      left = left - 1\n",
        "\n",
        "    while right<=n-1:\n",
        "      sorted_sqaure.append(nums[right]**2)\n",
        "      right = right + 1\n",
        "\n",
        "    return sorted_sqaure\n"
      ],
      "execution_count": null,
      "outputs": []
    },
    {
      "cell_type": "code",
      "metadata": {
        "colab": {
          "base_uri": "https://localhost:8080/"
        },
        "id": "OWJKz-BvqWTJ",
        "outputId": "ed23eec5-b5ef-44d0-db4b-b323649af536"
      },
      "source": [
        "n = [-3,-2,0,1,3,4]\n",
        "\n",
        "s = solution()\n",
        "s.square_sorted(n)"
      ],
      "execution_count": null,
      "outputs": [
        {
          "output_type": "execute_result",
          "data": {
            "text/plain": [
              "[0, 1, 4, 9, 9, 16]"
            ]
          },
          "metadata": {},
          "execution_count": 25
        }
      ]
    }
  ]
}