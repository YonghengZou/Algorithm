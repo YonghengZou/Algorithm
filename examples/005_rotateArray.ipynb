{
  "nbformat": 4,
  "nbformat_minor": 0,
  "metadata": {
    "colab": {
      "name": "005_rotateArray.ipynb",
      "provenance": [],
      "toc_visible": true,
      "authorship_tag": "ABX9TyMIG+PYcjgIh7pMFc7GGkpf",
      "include_colab_link": true
    },
    "kernelspec": {
      "name": "python3",
      "display_name": "Python 3"
    },
    "language_info": {
      "name": "python"
    }
  },
  "cells": [
    {
      "cell_type": "markdown",
      "metadata": {
        "id": "view-in-github",
        "colab_type": "text"
      },
      "source": [
        "<a href=\"https://colab.research.google.com/github/YonghengZou/Algorithm/blob/main/examples/005_rotateArray.ipynb\" target=\"_parent\"><img src=\"https://colab.research.google.com/assets/colab-badge.svg\" alt=\"Open In Colab\"/></a>"
      ]
    },
    {
      "cell_type": "markdown",
      "metadata": {
        "id": "wsxIZ256s-cn"
      },
      "source": [
        "# Rotate Array\n",
        "Given an array, rotate the array to the right by k steps, where k is non-negative."
      ]
    },
    {
      "cell_type": "code",
      "metadata": {
        "id": "eoba_c55s-x2"
      },
      "source": [
        "class solution:\n",
        "  def rotate(self, nums, k):\n",
        "    reverse(0, len(nums)-1)\n",
        "    reverse(0, k-1)\n",
        "    reverse(k, len(nums)-1)\n",
        "    return nums\n",
        "\n",
        "def reverse(start, end):\n",
        "  while start<end:\n",
        "    t = nums[start]\n",
        "    nums[start] = nums[end]\n",
        "    nums[end] = t\n",
        "    start = start+1\n",
        "    end = end - 1\n"
      ],
      "execution_count": null,
      "outputs": []
    },
    {
      "cell_type": "code",
      "metadata": {
        "colab": {
          "base_uri": "https://localhost:8080/"
        },
        "id": "sqxxZ1NptB0-",
        "outputId": "afb39013-1ce7-478d-9771-2b442f31663e"
      },
      "source": [
        "nums = [1,2,3,4,5,6,7] \n",
        "k = 3\n",
        "s = solution()\n",
        "s.rotate(nums, k)"
      ],
      "execution_count": null,
      "outputs": [
        {
          "output_type": "execute_result",
          "data": {
            "text/plain": [
              "[5, 6, 7, 1, 2, 3, 4]"
            ]
          },
          "metadata": {},
          "execution_count": 2
        }
      ]
    }
  ]
}