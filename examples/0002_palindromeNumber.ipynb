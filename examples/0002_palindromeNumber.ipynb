{
  "nbformat": 4,
  "nbformat_minor": 0,
  "metadata": {
    "colab": {
      "name": "0002_palindromeNumber.ipynb",
      "provenance": [],
      "collapsed_sections": [],
      "toc_visible": true,
      "authorship_tag": "ABX9TyOv+ZMg7mcrZUDW8dmyvs+/"
    },
    "kernelspec": {
      "name": "python3",
      "display_name": "Python 3"
    },
    "language_info": {
      "name": "python"
    }
  },
  "cells": [
    {
      "cell_type": "markdown",
      "metadata": {
        "id": "4fSJrep-WZFI"
      },
      "source": [
        "# Palindrome Number\n",
        "**Author:** Yongheng Zou\n",
        "\n",
        "**Date:** 2021.11.21\n",
        "\n",
        "Given an integer x, return true if x is palindrome integer.\n",
        "\n",
        "An integer is a palindrome when it reads the same backward as forward. For example, 121 is palindrome while 123 is not.\n",
        "\n",
        "_Reference:_ [int to str complexity](https://stackoverflow.com/questions/60788680/what-is-the-time-complexity-of-type-casting-function-in-python)"
      ]
    },
    {
      "cell_type": "markdown",
      "metadata": {
        "id": "vaef1pclWwgK"
      },
      "source": [
        "## 1. Solution"
      ]
    },
    {
      "cell_type": "code",
      "metadata": {
        "id": "mD7DdOqWW0NJ"
      },
      "source": [
        "class Solution:\n",
        "  def __init__(self, num):\n",
        "    self.num = num\n",
        "  def method(self):\n",
        "    \"\"\"\n",
        "    Converting an int to a str ought to \n",
        "    take Θ(n2) time, \n",
        "    because you have to do Θ(n) division and remainder operations \n",
        "    to find n digits, and each arithmetic operation takes Θ(n) time \n",
        "    because of the size of the integers involved.\n",
        "    Since most of time, you probably do not have an integer with large length,\n",
        "    so it is acceptable to tolerate O(n^2) time complexity.\n",
        "    In the section of appendix, I also show the time complixity of\n",
        "    the conversion form a int to a str.\n",
        "\n",
        "    Using slice for reversing your string can also take time complexity of O(n^2)\n",
        "\n",
        "    In conclusion, the degree of time complexity of this method is O(n^2)\n",
        "\n",
        "    Output: return True of False\n",
        "    \"\"\"\n",
        "    return str(self.num) == str(self.num)[::-1]"
      ],
      "execution_count": 54,
      "outputs": []
    },
    {
      "cell_type": "markdown",
      "metadata": {
        "id": "bUZ9CQnrcYDp"
      },
      "source": [
        "## 2. Test"
      ]
    },
    {
      "cell_type": "code",
      "metadata": {
        "colab": {
          "base_uri": "https://localhost:8080/"
        },
        "id": "YabYpRwoX0gQ",
        "outputId": "448240a3-be8a-4af2-adfb-fb69ea31e6e0"
      },
      "source": [
        "import random\n",
        "\n",
        "low = 1\n",
        "high = 100\n",
        "num = random.randint(1, 100)\n",
        "\n",
        "a = Solution(num)\n",
        "a.method()"
      ],
      "execution_count": 55,
      "outputs": [
        {
          "output_type": "execute_result",
          "data": {
            "text/plain": [
              "False"
            ]
          },
          "metadata": {},
          "execution_count": 55
        }
      ]
    },
    {
      "cell_type": "code",
      "metadata": {
        "id": "srTWPhJJYIG4"
      },
      "source": [
        "n = 1221\n",
        "b = Solution(n)"
      ],
      "execution_count": 158,
      "outputs": []
    },
    {
      "cell_type": "code",
      "metadata": {
        "colab": {
          "base_uri": "https://localhost:8080/"
        },
        "id": "wl-OTRachR45",
        "outputId": "57cedb30-36e3-491d-ec6d-522eed922831"
      },
      "source": [
        "b.method()"
      ],
      "execution_count": 159,
      "outputs": [
        {
          "output_type": "execute_result",
          "data": {
            "text/plain": [
              "True"
            ]
          },
          "metadata": {},
          "execution_count": 159
        }
      ]
    },
    {
      "cell_type": "markdown",
      "metadata": {
        "id": "B8rQD_azcbwW"
      },
      "source": [
        "## 3. Appedix\n",
        "### 3.1 Class attributes\n",
        "The first Test class is to show the attributes that bounded to each certain instance.\n",
        "\n",
        "The second Test class is managning to input your parameters to specific function in a class.\n"
      ]
    },
    {
      "cell_type": "code",
      "metadata": {
        "id": "f1rqb2Z9cqSu"
      },
      "source": [
        "class Test:\n",
        "  def __init__(self, a, b):\n",
        "    self.a = a\n",
        "    self.b = b\n",
        "  def method(self):\n",
        "    print(self.a, self.b)"
      ],
      "execution_count": 19,
      "outputs": []
    },
    {
      "cell_type": "code",
      "metadata": {
        "colab": {
          "base_uri": "https://localhost:8080/"
        },
        "id": "wkHSo5tYc2-d",
        "outputId": "20f98faf-369c-4f82-c0d2-fb4cb33263e0"
      },
      "source": [
        "Test(2, 4).method()"
      ],
      "execution_count": 20,
      "outputs": [
        {
          "output_type": "stream",
          "name": "stdout",
          "text": [
            "2 4\n"
          ]
        }
      ]
    },
    {
      "cell_type": "code",
      "metadata": {
        "id": "MaQtXcbCkJJd"
      },
      "source": [
        "class Test2:\n",
        "  def method(self, a, b):\n",
        "    print(a, b)"
      ],
      "execution_count": 22,
      "outputs": []
    },
    {
      "cell_type": "code",
      "metadata": {
        "colab": {
          "base_uri": "https://localhost:8080/"
        },
        "id": "4ww8tRPxkW8A",
        "outputId": "e78632f9-efa8-4de0-815b-62e3aad74382"
      },
      "source": [
        "Test2().method(1, 3)"
      ],
      "execution_count": 25,
      "outputs": [
        {
          "output_type": "stream",
          "name": "stdout",
          "text": [
            "1 3\n"
          ]
        }
      ]
    },
    {
      "cell_type": "markdown",
      "metadata": {
        "id": "cDipUirqrAGO"
      },
      "source": [
        "### 3.2 Integers to strings convertion time complexity experiment\n",
        "\n",
        "It can be clearly shown that the time complexity of conversion is O(n^2) from the figure."
      ]
    },
    {
      "cell_type": "code",
      "metadata": {
        "id": "Sm_8EWhDogLt"
      },
      "source": [
        "import time\n",
        "\n",
        "duration_li = []\n",
        "n = 10000\n",
        "for i in range(n):\n",
        "  num = 10 ** i\n",
        "  start = time.time()\n",
        "  str(num)\n",
        "  duration = time.time() - start\n",
        "  duration_li.append(duration)"
      ],
      "execution_count": 88,
      "outputs": []
    },
    {
      "cell_type": "code",
      "metadata": {
        "colab": {
          "base_uri": "https://localhost:8080/",
          "height": 312
        },
        "id": "VwegS40oo4IV",
        "outputId": "d6f1e764-eb68-417a-d0ee-a8402fa32fff"
      },
      "source": [
        "import matplotlib.pyplot as plt\n",
        "# duration_li = [x for x in duration_li if x<0.002]\n",
        "plt.plot(duration_li)\n",
        "plt.xlabel(\"n\")\n",
        "plt.ylabel('time comsumption')\n",
        "plt.title('Int to Str')"
      ],
      "execution_count": 91,
      "outputs": [
        {
          "output_type": "execute_result",
          "data": {
            "text/plain": [
              "Text(0.5, 1.0, 'Int to Str')"
            ]
          },
          "metadata": {},
          "execution_count": 91
        },
        {
          "output_type": "display_data",
          "data": {
            "image/png": "[encoded data removed]",
            "text/plain": [
              "<Figure size 432x288 with 1 Axes>"
            ]
          },
          "metadata": {
            "needs_background": "light"
          }
        }
      ]
    },
    {
      "cell_type": "code",
      "metadata": {
        "colab": {
          "base_uri": "https://localhost:8080/"
        },
        "id": "YhU6_lLx1vjp",
        "outputId": "e53cf811-5c62-4b94-ad2a-c024d3e77570"
      },
      "source": [
        "127//10\n",
        "127%10"
      ],
      "execution_count": 94,
      "outputs": [
        {
          "output_type": "execute_result",
          "data": {
            "text/plain": [
              "7"
            ]
          },
          "metadata": {},
          "execution_count": 94
        }
      ]
    },
    {
      "cell_type": "code",
      "metadata": {
        "colab": {
          "base_uri": "https://localhost:8080/"
        },
        "id": "BV23k90P18Jf",
        "outputId": "f800b520-6528-492d-9248-97aa53046be0"
      },
      "source": [
        "1%10"
      ],
      "execution_count": 97,
      "outputs": [
        {
          "output_type": "execute_result",
          "data": {
            "text/plain": [
              "1"
            ]
          },
          "metadata": {},
          "execution_count": 97
        }
      ]
    }
  ]
}