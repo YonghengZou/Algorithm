{
  "nbformat": 4,
  "nbformat_minor": 0,
  "metadata": {
    "colab": {
      "name": "002_firstBad.ipynb",
      "provenance": [],
      "collapsed_sections": [],
      "toc_visible": true,
      "authorship_tag": "ABX9TyOqGr8cpesGpkxX4WOP0WZH",
      "include_colab_link": true
    },
    "kernelspec": {
      "name": "python3",
      "display_name": "Python 3"
    },
    "language_info": {
      "name": "python"
    }
  },
  "cells": [
    {
      "cell_type": "markdown",
      "metadata": {
        "id": "view-in-github",
        "colab_type": "text"
      },
      "source": [
        "<a href=\"https://colab.research.google.com/github/YonghengZou/Algorithm/blob/main/examples/002_firstBad.ipynb\" target=\"_parent\"><img src=\"https://colab.research.google.com/assets/colab-badge.svg\" alt=\"Open In Colab\"/></a>"
      ]
    },
    {
      "cell_type": "markdown",
      "metadata": {
        "id": "H_3W6ITApPF8"
      },
      "source": [
        "# First bad version\n",
        "You are a product manager and currently leading a team to develop a new product. Unfortunately, the latest version of your product fails the quality check. Since each version is developed based on the previous version, all the versions after a bad version are also bad.\n",
        "\n",
        "Suppose you have n versions [1, 2, ..., n] and you want to find out the first bad one, which causes all the following ones to be bad.\n",
        "\n",
        "You are given an API bool isBadVersion(version) which returns whether version is bad. Implement a function to find the first bad version. You should minimize the number of calls to the API."
      ]
    },
    {
      "cell_type": "code",
      "metadata": {
        "id": "OcnluEMkpRDh"
      },
      "source": [
        "class solution:\n",
        "  def search_bad(self, nums):\n",
        "    start = 0\n",
        "    end = len(num) - 1\n",
        "\n",
        "    while start<end:\n",
        "\n",
        "      mid = (start+end)//2\n",
        "      if isBadVersion(mid)==False:\n",
        "        start = mid + 1\n",
        "      else:\n",
        "        end = mid\n",
        "    \n",
        "    return end\n",
        "\n",
        "def isBadVersion(version):\n",
        "  if version==0 or version==1 or version==2 or version==3:\n",
        "    return False\n",
        "  else:\n",
        "    return True"
      ],
      "execution_count": null,
      "outputs": []
    },
    {
      "cell_type": "code",
      "metadata": {
        "colab": {
          "base_uri": "https://localhost:8080/"
        },
        "id": "K_-ggCOWpTwl",
        "outputId": "05b93db8-4293-4dd8-c4bc-cd593de62446"
      },
      "source": [
        "n = [0, 1, 2, 3, 4, 5, 6, 7]\n",
        "s = solution()\n",
        "\n",
        "s.search_bad(n)"
      ],
      "execution_count": null,
      "outputs": [
        {
          "output_type": "execute_result",
          "data": {
            "text/plain": [
              "4"
            ]
          },
          "metadata": {},
          "execution_count": 11
        }
      ]
    }
  ]
}