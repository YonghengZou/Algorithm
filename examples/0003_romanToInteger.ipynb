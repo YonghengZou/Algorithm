{
  "nbformat": 4,
  "nbformat_minor": 0,
  "metadata": {
    "colab": {
      "name": "0003_romanToInteger.ipynb",
      "provenance": [],
      "collapsed_sections": [],
      "authorship_tag": "ABX9TyMS78q0fg4IcJRnJRNynxKC"
    },
    "kernelspec": {
      "name": "python3",
      "display_name": "Python 3"
    },
    "language_info": {
      "name": "python"
    }
  },
  "cells": [
    {
      "cell_type": "markdown",
      "source": [
        "# Roman to integer\n",
        "\n",
        "**Author:** Yongheng\n",
        "\n",
        "**Date:** 2021/12/16\n",
        "\n",
        "<br/>\n",
        "\n",
        "Roman numerals are represented by seven different symbols: I, V, X, L, C, D and M.\n",
        "\n",
        "Symbol    |   Value\n",
        "---|---\n",
        "I      |       1\n",
        "V      |       5\n",
        "X      |       10\n",
        "L      |       50\n",
        "C      |       100\n",
        "D      |       500\n",
        "M      |       1000\n",
        "\n",
        "For example, 2 is written as II in Roman numeral, just two one's added together. 12 is written as XII, which is simply X + II. The number 27 is written as XXVII, which is XX + V + II.\n",
        "\n",
        "Roman numerals are usually written largest to smallest from left to right. However, the numeral for four is not IIII. Instead, the number four is written as IV. Because the one is before the five we subtract it making four. The same principle applies to the number nine, which is written as IX. There are six instances where subtraction is used:\n",
        "\n",
        "I can be placed before V (5) and X (10) to make 4 and 9. \n",
        "X can be placed before L (50) and C (100) to make 40 and 90. \n",
        "C can be placed before D (500) and M (1000) to make 400 and 900.\n",
        "Given a roman numeral, convert it to an integer.\n",
        "\n",
        "Example 3:\n",
        "\n",
        "Input: s = \"MCMXCIV\"\n",
        "Output: 1994\n",
        "Explanation: M = 1000, CM = 900, XC = 90 and IV = 4.\n"
      ],
      "metadata": {
        "id": "DPDigLvUx7RW"
      }
    },
    {
      "cell_type": "markdown",
      "source": [
        "## 1. Solution\n",
        "* The first step is to create a hashtable to preserve all the roman numerals for looking up later.\n",
        "\n",
        "* Then, you want to loop your string while chekcing the difference between ajacent character. If the left charater is bigger than the right character, you will add the value of left charater to your sum. However, if the left charater is smaller than the right character, you would like to deduct your sum by the value of the left charater. And you will do this check process for $(n-1)$ nuumber of times, where $n$ is the length of the input string.\n",
        "\n",
        "* And the time complexity of this method is $O(n)$"
      ],
      "metadata": {
        "id": "yRF3Me2a42qx"
      }
    },
    {
      "cell_type": "code",
      "source": [
        "class Solution:\n",
        "  def method(self, s):\n",
        "    '''\n",
        "    Function converting roman numerals to integers.\n",
        "    \n",
        "    Time complexity: O(n)\n",
        "    \n",
        "    input:  strings\n",
        "    output: return an integer\n",
        "    '''\n",
        "    \n",
        "    ht = {'I': 1, 'V': 5, 'X':10, 'L':50, 'C':100, 'D':500, 'M':1000}\n",
        "    \n",
        "    sum = 0\n",
        "    n = len(s)\n",
        "    for i in range(n):\n",
        "      # loop for all charaters excepting last one\n",
        "      if i<n-1: \n",
        "        j = i+1\n",
        "        # jutisfy whether add or substract\n",
        "        if ht[s[i]] >= ht[s[j]]:\n",
        "          sum = sum + ht[s[i]]\n",
        "        else:\n",
        "          sum = sum - ht[s[i]]\n",
        "      # add the numeral value of last roman charater\n",
        "      else:\n",
        "        sum = sum + ht[s[i]]\n",
        "\n",
        "    return sum"
      ],
      "metadata": {
        "id": "STi2O5k80m4h"
      },
      "execution_count": 12,
      "outputs": []
    },
    {
      "cell_type": "markdown",
      "source": [
        "## 2. Test"
      ],
      "metadata": {
        "id": "oufsD2C_464h"
      }
    },
    {
      "cell_type": "code",
      "source": [
        "s = \"MCMXCIV\""
      ],
      "metadata": {
        "id": "wVrPxdKS3PG3"
      },
      "execution_count": 3,
      "outputs": []
    },
    {
      "cell_type": "code",
      "source": [
        "Solution().method(s)"
      ],
      "metadata": {
        "colab": {
          "base_uri": "https://localhost:8080/"
        },
        "id": "lrK_tDqi3Sel",
        "outputId": "5f5156b5-cfba-4468-ac42-d8be5a2f53ee"
      },
      "execution_count": 13,
      "outputs": [
        {
          "output_type": "execute_result",
          "data": {
            "text/plain": [
              "1994"
            ]
          },
          "metadata": {},
          "execution_count": 13
        }
      ]
    }
  ]
}