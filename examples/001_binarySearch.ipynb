{
  "nbformat": 4,
  "nbformat_minor": 0,
  "metadata": {
    "colab": {
      "name": "001_binarySearch.ipynb",
      "provenance": [],
      "collapsed_sections": [],
      "toc_visible": true,
      "authorship_tag": "ABX9TyOJtdvFfEj/CBet31fSZfIk",
      "include_colab_link": true
    },
    "kernelspec": {
      "name": "python3",
      "display_name": "Python 3"
    },
    "language_info": {
      "name": "python"
    }
  },
  "cells": [
    {
      "cell_type": "markdown",
      "metadata": {
        "id": "view-in-github",
        "colab_type": "text"
      },
      "source": [
        "<a href=\"https://colab.research.google.com/github/YonghengZou/Algorithm/blob/main/examples/001_binarySearch.ipynb\" target=\"_parent\"><img src=\"https://colab.research.google.com/assets/colab-badge.svg\" alt=\"Open In Colab\"/></a>"
      ]
    },
    {
      "cell_type": "markdown",
      "metadata": {
        "id": "JANVXx3kmOY0"
      },
      "source": [
        "# Binary search O(logn)\n",
        "Given an array of integers nums which is sorted in ascending order, and an integer target, write a function to search target in nums. If target exists, then return its index. Otherwise, return -1.\n",
        "\n",
        "You must write an algorithm with O(log n) runtime complexity."
      ]
    },
    {
      "cell_type": "code",
      "metadata": {
        "id": "waWLfgjNmSVe"
      },
      "source": [
        "class solution:\n",
        "  def __init__(self, num, target):\n",
        "    self.num = num\n",
        "    self.target = target\n",
        "\n",
        "  def search(self):\n",
        "    left = 0\n",
        "    right = len(num)-1\n",
        "    while(left<=right):\n",
        "      pivot = (left + right)//2\n",
        "      if num[pivot]==target:\n",
        "        return pivot\n",
        "      if num[pivot]>target:\n",
        "        left = pivot + 1\n",
        "      else:\n",
        "        right = pivot - 1\n",
        "\n",
        "    return -1"
      ],
      "execution_count": null,
      "outputs": []
    },
    {
      "cell_type": "code",
      "metadata": {
        "colab": {
          "base_uri": "https://localhost:8080/"
        },
        "id": "oH0qhQWImU5v",
        "outputId": "55f556f2-b934-46bd-9406-1e2ea8440dda"
      },
      "source": [
        "# test\n",
        "num = [-1,0,3,5,9,12]\n",
        "target = 3\n",
        "\n",
        "s = solution(num, target)\n",
        "s.search()"
      ],
      "execution_count": null,
      "outputs": [
        {
          "output_type": "execute_result",
          "data": {
            "text/plain": [
              "2"
            ]
          },
          "metadata": {},
          "execution_count": 2
        }
      ]
    }
  ]
}