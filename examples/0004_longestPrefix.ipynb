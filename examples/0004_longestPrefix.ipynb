{
  "nbformat": 4,
  "nbformat_minor": 0,
  "metadata": {
    "colab": {
      "name": "0004_longestPrefix.ipynb",
      "provenance": [],
      "collapsed_sections": [],
      "toc_visible": true,
      "authorship_tag": "ABX9TyM+g+KOzVjT/ZdTVxSllH8k",
      "include_colab_link": true
    },
    "kernelspec": {
      "name": "python3",
      "display_name": "Python 3"
    },
    "language_info": {
      "name": "python"
    }
  },
  "cells": [
    {
      "cell_type": "markdown",
      "metadata": {
        "id": "view-in-github",
        "colab_type": "text"
      },
      "source": [
        "<a href=\"https://colab.research.google.com/github/YonghengZou/Algorithm/blob/main/examples/0004_longestPrefix.ipynb\" target=\"_parent\"><img src=\"https://colab.research.google.com/assets/colab-badge.svg\" alt=\"Open In Colab\"/></a>"
      ]
    },
    {
      "cell_type": "markdown",
      "source": [
        "# Longest common prefix\n",
        "\n",
        "**Author:** Yongheng\n",
        "\n",
        "**Date:** 2021/12/26\n",
        "\n",
        "</br>\n",
        "\n",
        "Write a function to find the longest common prefix string amongst an array of strings.\n",
        "\n",
        "If there is no common prefix, return an empty string \"\".\n",
        "\n",
        "</br>\n",
        "Example:\n",
        "\n",
        "Input: strs = [\"flower\",\"flow\",\"flight\"]\n",
        "\n",
        "Output: \"fl\""
      ],
      "metadata": {
        "id": "a8i5yB-cO09L"
      }
    },
    {
      "cell_type": "markdown",
      "source": [
        "## 1. Solution\n",
        "* Find the minimum length among the array stings\n",
        "* Check and compare the chararater of strings one by one"
      ],
      "metadata": {
        "id": "P-q3grITdGcP"
      }
    },
    {
      "cell_type": "code",
      "source": [
        "class Solution:\n",
        "  def method(self, strs):\n",
        "\n",
        "    '''\n",
        "    Function finding longest prefix among strings.\n",
        "    \n",
        "    Time complexity: O(n*m)\n",
        "    , where n is the length of prefix; m is the length of the array\n",
        "    \n",
        "    input:  an arrary of strings\n",
        "    output: return prefix strings\n",
        "    '''\n",
        "\n",
        "    # First we find the possible maxiumum length of our prefix\n",
        "    n = len(strs)\n",
        "    min_length = float('inf')\n",
        "    for i in range(n):\n",
        "      if len(strs[i])<min_length:\n",
        "        min_length = len(strs[i])\n",
        "    \n",
        "    # Then, we will loop for possible maximum length prefix of times\n",
        "    s = ''\n",
        "    for i in range(min_length):\n",
        "      # loop to jutisfy whether the chars of two adjacent strings are identical\n",
        "      for j in range(n-1):\n",
        "        # if chars of two adjacent strings are identical, continue to next loop\n",
        "        if strs[j][i] == strs[j+1][i]:\n",
        "          continue\n",
        "        # else, break to the outer loop, which means we return the prefix till now\n",
        "        else:\n",
        "          return s\n",
        "      # everytime, you successfully find a prefix, concentante it with previous prefix\n",
        "      # By the way, join function takes O(n) time complexity\n",
        "      # , where n is the length of the output \n",
        "      s = ''.join([s, strs[j][i]])\n",
        "    # if all the strings in your array are exactly identical, return thw whole string\n",
        "    return s\n",
        "\n"
      ],
      "metadata": {
        "id": "7nTAyVOdPsYw"
      },
      "execution_count": null,
      "outputs": []
    },
    {
      "cell_type": "markdown",
      "source": [
        "## 2. Test"
      ],
      "metadata": {
        "id": "W_nva3-EdRht"
      }
    },
    {
      "cell_type": "code",
      "source": [
        "strs = [\"flower\",\"flow\",\"flight\"]\n",
        "Solution().method(strs)"
      ],
      "metadata": {
        "colab": {
          "base_uri": "https://localhost:8080/",
          "height": 35
        },
        "id": "7pbXs4XaUI1Y",
        "outputId": "f24132db-4a5c-4cbd-f9f5-867054f5905d"
      },
      "execution_count": null,
      "outputs": [
        {
          "output_type": "execute_result",
          "data": {
            "application/vnd.google.colaboratory.intrinsic+json": {
              "type": "string"
            },
            "text/plain": [
              "'fl'"
            ]
          },
          "metadata": {},
          "execution_count": 37
        }
      ]
    }
  ]
}