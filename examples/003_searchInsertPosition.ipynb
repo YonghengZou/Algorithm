{
  "nbformat": 4,
  "nbformat_minor": 0,
  "metadata": {
    "colab": {
      "name": "003_searchInsertPosition.ipynb",
      "provenance": [],
      "collapsed_sections": [],
      "toc_visible": true,
      "authorship_tag": "ABX9TyM0xUmLMb86eMUvsjGK++Cs",
      "include_colab_link": true
    },
    "kernelspec": {
      "name": "python3",
      "display_name": "Python 3"
    },
    "language_info": {
      "name": "python"
    }
  },
  "cells": [
    {
      "cell_type": "markdown",
      "metadata": {
        "id": "view-in-github",
        "colab_type": "text"
      },
      "source": [
        "<a href=\"https://colab.research.google.com/github/YonghengZou/Algorithm/blob/main/examples/003_searchInsertPosition.ipynb\" target=\"_parent\"><img src=\"https://colab.research.google.com/assets/colab-badge.svg\" alt=\"Open In Colab\"/></a>"
      ]
    },
    {
      "cell_type": "markdown",
      "metadata": {
        "id": "qblbY7dlpm-b"
      },
      "source": [
        "# Search Insert Position\n",
        "Given a sorted array of distinct integers and a target value, return the index if the target is found. If not, return the index where it would be if it were inserted in order.\n",
        "\n",
        "You must write an algorithm with O(log n) runtime complexity."
      ]
    },
    {
      "cell_type": "code",
      "metadata": {
        "id": "mqAuLZjoppXs"
      },
      "source": [
        "class solution:\n",
        "  def __init__(self, nums, target):\n",
        "    self.nums = nums\n",
        "    self.target = target\n",
        "  def search(self):\n",
        "    start = 0\n",
        "    end = len(nums) - 1\n",
        "\n",
        "    if target<nums[start]:\n",
        "      return 0\n",
        "    elif nums[start]<=target and nums[end]>=target:\n",
        "      while start<end:\n",
        "        mid = (start + end)//2\n",
        "        if nums[mid]==target:\n",
        "          return mid\n",
        "        if nums[mid]>target:\n",
        "          end = mid - 1\n",
        "        else:\n",
        "          start = mid + 1\n",
        "\n",
        "      return start+1\n",
        "    else:\n",
        "      return end+1"
      ],
      "execution_count": 11,
      "outputs": []
    },
    {
      "cell_type": "code",
      "metadata": {
        "colab": {
          "base_uri": "https://localhost:8080/"
        },
        "id": "zwZtAS_nptyT",
        "outputId": "c02f122d-9f1f-4f36-a71a-55c9b96817aa"
      },
      "source": [
        "n = [1,2,3,4,6,7]\n",
        "target = 5\n",
        "s = solution(n, target)\n",
        "s.search()"
      ],
      "execution_count": 12,
      "outputs": [
        {
          "output_type": "execute_result",
          "data": {
            "text/plain": [
              "4"
            ]
          },
          "metadata": {},
          "execution_count": 12
        }
      ]
    }
  ]
}