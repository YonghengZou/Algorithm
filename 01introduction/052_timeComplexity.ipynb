{
  "nbformat": 4,
  "nbformat_minor": 0,
  "metadata": {
    "colab": {
      "name": "052_timeComplexity.ipynb",
      "provenance": [],
      "collapsed_sections": [
        "A8FuPGH2x5yl",
        "3A-iVMZpyuWu"
      ],
      "authorship_tag": "ABX9TyNkx93qGN+EBAJG1NssaNxN"
    },
    "kernelspec": {
      "name": "python3",
      "display_name": "Python 3"
    },
    "language_info": {
      "name": "python"
    }
  },
  "cells": [
    {
      "cell_type": "markdown",
      "metadata": {
        "id": "YitAM3NDxz2B"
      },
      "source": [
        "# Time complexity examples"
      ]
    },
    {
      "cell_type": "markdown",
      "metadata": {
        "id": "A8FuPGH2x5yl"
      },
      "source": [
        "## Time complexity $O(n)$\n",
        "```\n",
        "for (i=0; i<n; i++)\n",
        "{\n",
        "  statement;\n",
        "}\n",
        "```\n",
        "\n",
        "value of i | # number of executime times\n",
        "--- | ---\n",
        "0 | 1\n",
        "1 | 2\n",
        "2 | 3\n",
        "... | ...\n",
        "n-1 | n"
      ]
    },
    {
      "cell_type": "markdown",
      "metadata": {
        "id": "3A-iVMZpyuWu"
      },
      "source": [
        "## Time comlexity $O(logn)$\n",
        "### Example 1\n",
        "```\n",
        "for (i=1; i<n; i*2)\n",
        "{\n",
        "  statement;\n",
        "}\n",
        "\n",
        "```\n",
        "Value of i | # number executime times\n",
        "--- | ---\n",
        "1 | 1\n",
        "4 | 2\n",
        "8 | 3\n",
        "... | ...\n",
        "$2^k$ | k\n",
        "When $2^k>=n$, that is to say $k>=logn$, the loop stops.\n",
        "\n",
        "### Example 2\n",
        "```\n",
        "for (i=n; i>1; i/2)\n",
        "{\n",
        "  statement;\n",
        "}\n",
        "\n",
        "```\n",
        "Value of i | # number executime times\n",
        "--- | ---\n",
        "n | 1\n",
        "$\\frac{n}{2}$ | 2\n",
        "$\\frac{n}{2*2}$ | 3\n",
        "$\\frac{n}{2*2*2}$ | 4\n",
        "... | ...\n",
        "$\\frac{n}{2^{(k-1)}}$ | k\n",
        "when $\\frac{n}{2^{(k-1)}}=1$, that is to say $k=logn+1$, the loop stops.\n",
        "\n",
        "\n"
      ]
    },
    {
      "cell_type": "markdown",
      "metadata": {
        "id": "fhuzIRfW12do"
      },
      "source": [
        "## Time complexity $O(\\sqrt{n})$\n",
        "```\n",
        "for (i=0; i*i<n; i++)\n",
        "{\n",
        "  statement;\n",
        "}\n",
        "```\n",
        "\n",
        "value of i | # of executive times\n",
        "--- | ---\n",
        "0 | 1\n",
        "1 | 2\n",
        "2 | 3\n",
        "k | k+!\n",
        "When $k^2=n$, that is to say $k=\\sqrt{n}$, the loop stops.\n",
        "\n",
        "\n",
        "\n",
        "\n"
      ]
    },
    {
      "cell_type": "markdown",
      "metadata": {
        "id": "v4MBdj335D4Y"
      },
      "source": [
        "## Time complexity $0(log(logn))$\n",
        "\n",
        "```\n",
        "p = 0\n",
        "for (i=0; i<n; i*2)\n",
        "{\n",
        "  p++;\n",
        "}\n",
        "\n",
        "for (j=0; j<p; j*2)\n",
        "{\n",
        "  statement;\n",
        "}\n",
        "```\n",
        "The time complexity of the second loop is $O(log(p))$, and the the time complexity of the first loop is $O(log(n))$. Since the second will loop for p times. We will conclude that the time complexity of second loop is $0(log(logn))$. (Just for the second lopp!)"
      ]
    },
    {
      "cell_type": "markdown",
      "metadata": {
        "id": "OzUbOKir8EjS"
      },
      "source": [
        "## Time complexity $0(nlogn)$\n",
        "````\n",
        "for (i=0; i<n; i++)\n",
        "{\n",
        "  for (j=0; j<n; j*2)\n",
        "  {\n",
        "    statement;\n",
        "  }\n",
        "}\n",
        "````\n",
        "For the outer loop, the time complexity is $O(n)$. For the inner loop, the time complexity is $O(logn)$. By multiplying the two, we conclude $0(nlogn)$ for this nested loop.\n",
        "\n",
        "\n"
      ]
    }
  ]
}