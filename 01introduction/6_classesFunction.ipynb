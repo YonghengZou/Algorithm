{
  "nbformat": 4,
  "nbformat_minor": 0,
  "metadata": {
    "colab": {
      "name": "6_classesFunction.ipynb",
      "provenance": [],
      "collapsed_sections": [],
      "authorship_tag": "ABX9TyPXuJ4ohw+c1WTChF87yivI"
    },
    "kernelspec": {
      "name": "python3",
      "display_name": "Python 3"
    },
    "language_info": {
      "name": "python"
    }
  },
  "cells": [
    {
      "cell_type": "markdown",
      "source": [
        "# Classes of time function\n",
        "\n",
        "Function | Class \n",
        "---|---\n",
        "$O(1)$|constant\n",
        "$O(logN)$| logrithemic\n",
        "$O(N)$|linear\n",
        "$O(N^2)$|quadratic\n",
        "$O(N^3)$|cubic\n",
        "$O(2^N)$|exponential\n",
        "$O(3^N)$|exponential\n",
        "$O(N^N)$|exponential\n",
        "\n",
        "</br>\n",
        "\n",
        "$1 < logN < \\sqrt{N} < N < N^2 < N^3 < ...< 2^N < 3^N ... < N^N$"
      ],
      "metadata": {
        "id": "b_VA2KlwwbUW"
      }
    }
  ]
}