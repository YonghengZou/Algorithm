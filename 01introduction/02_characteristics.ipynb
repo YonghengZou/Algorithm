{
  "nbformat": 4,
  "nbformat_minor": 0,
  "metadata": {
    "colab": {
      "name": "02_characteristics.ipynb",
      "provenance": [],
      "collapsed_sections": [],
      "toc_visible": true,
      "authorship_tag": "ABX9TyMv/O2E+RICWH17Ps93LWMC"
    },
    "kernelspec": {
      "name": "python3",
      "display_name": "Python 3"
    },
    "language_info": {
      "name": "python"
    }
  },
  "cells": [
    {
      "cell_type": "markdown",
      "metadata": {
        "id": "Cwib2oT8pH5L"
      },
      "source": [
        "# Characteristcs of algorithm\n",
        "## Input\n",
        "First, algorithm can take 0 or more input, that is to say some algorithm do not have input but some do. \n",
        "## Output\n",
        "Next, algorithm must at least generate 1 output, otherwise it is not necessary of writing an algorithm. It must generate some result.\n",
        "## Definiteness\n",
        "Every statement should be ambitious. It has single and exact meaning that human can understand. \n",
        "## Finiteness\n",
        "Your algorithm is composed of limited steps, which means it should terminate at some point.\n",
        "## effectiveness\n",
        "Avoid unnecessary procedures.\n"
      ]
    },
    {
      "cell_type": "code",
      "metadata": {
        "colab": {
          "base_uri": "https://localhost:8080/"
        },
        "id": "5CsiBt_jtN_Z",
        "outputId": "6c469a0c-4acb-4588-c30c-4e9fafa52d4a"
      },
      "source": [
        "from prettytable import PrettyTable\n",
        "x = PrettyTable()\n",
        "x.field_names = [\"Characteristics\", \"*\"]\n",
        "x.add_row([\"Input\", \">=0\"])\n",
        "x.add_row([\"Output\", \">1\"])\n",
        "x.add_row(['Definiteness','clear'])\n",
        "x.add_row(['Finiteness', 'stopable'])\n",
        "x.add_row(['Effectiveness', 'brief'])\n",
        "print(x)"
      ],
      "execution_count": 3,
      "outputs": [
        {
          "output_type": "stream",
          "name": "stdout",
          "text": [
            "+-----------------+----------+\n",
            "| Characteristics |    *     |\n",
            "+-----------------+----------+\n",
            "|      Input      |   >=0    |\n",
            "|      Output     |    >1    |\n",
            "|   Definiteness  |  clear   |\n",
            "|    Finiteness   | stopable |\n",
            "|  Effectiveness  |  brief   |\n",
            "+-----------------+----------+\n"
          ]
        }
      ]
    }
  ]
}