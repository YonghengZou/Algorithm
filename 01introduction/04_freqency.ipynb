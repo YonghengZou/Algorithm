{
  "nbformat": 4,
  "nbformat_minor": 0,
  "metadata": {
    "colab": {
      "name": "04_freqency.ipynb",
      "provenance": [],
      "authorship_tag": "ABX9TyM0GD5Z4om/XvsWK0A99kEH"
    },
    "kernelspec": {
      "name": "python3",
      "display_name": "Python 3"
    },
    "language_info": {
      "name": "python"
    }
  },
  "cells": [
    {
      "cell_type": "markdown",
      "metadata": {
        "id": "gbcNJZ11H--2"
      },
      "source": [
        "# Freqency method count\n",
        "Sometimes we want to know whether the algorithm we desigeed is useful for finding the time complexity. Thus, we introduce frequecy method count which is an seay way to find the time complexity. We will learn how we can use this method. \n",
        "\n",
        "Here is an algorithm to find the sum of all the elements in an array, we will use it for analysis subsequently.\n",
        "```\n",
        "Algorithm sum(A ,n)\n",
        "{\n",
        "  s = 0;\n",
        "  for (i=0; i<n; i++)\n",
        "  {\n",
        "    s = s + A[i]; \n",
        "  }\n",
        "  return s\n",
        "}\n",
        "```\n",
        "\n",
        "## Example 1\n",
        "For example, A = [3, 4, 5, 8, 10] and n = 5, tell me how many steps are there to walk through this algoritm?\n",
        "\n",
        "```\n",
        "Algorithm sum(A ,5)\n",
        "{\n",
        "  s = 0;                 --> 1 unit of time \n",
        "  for (i=0; i<5; i++)    --> 1 + (5+1) + 5 = 2 * (5+1) units of time\n",
        "  {\n",
        "    s = s + A[i];        --> 5 units of time\n",
        "  }\n",
        "  return s               --> 1 unit of time\n",
        "}\n",
        "```\n",
        "I have addresed all the time you need for each statement on the right side of the algorithm. For '*for (i=0; i<5; i++)*' statement, I divided it into three  statements. '*i=0*' takes 1 unit of time. '*i<5*' takes *5+1=6* units of time. And '*i++*' takes 5 unit of time. Now, we are going to repalce the input parameter of 5 with n and see the result.\n",
        "## Example 2\n",
        "```\n",
        "Algorithm sum(A ,n)\n",
        "{\n",
        "  s = 0;                 --> 1 unit of time \n",
        "  for (i=0; i<5; i++)    --> 1 + (n+1) + n = 2 * (n+1) units of time\n",
        "  {\n",
        "    s = s + A[i];        --> n units of time\n",
        "  }\n",
        "  return s               --> 1 unit of time\n",
        "}\n",
        "```\n",
        "Obviously, the time complexity for whole steps $f(n) = 3n + 5$. And what is the degree (highest order) of this function? It is degree of one. So we say the time complexity for this algorithm is $O(n^1)$, which written as $O(n)$ mostly. If the degree equals to 0, we conclude with $O(n^0)$, which written as $O(1)$ mostly.\n",
        "\n",
        "For space complexity, array '*A*' takes up n units of space. variable '*n*', '*s*' and '*i*' takes up 1 unit of space respectively. Thus, the space complexity function $f(n) = n + 3$. The function is in the degree of 1. Thus, the space complexity for this algorithm. $O(n)$\n",
        "\n",
        "**Below, I utilized pythoh to figure out the time complexity as n goes up. And you can clearly find it is a linear function despite some noise**"
      ]
    },
    {
      "cell_type": "code",
      "metadata": {
        "id": "nEBL4GDORjEZ"
      },
      "source": [
        "def sum(A ,n):\n",
        "  \"\"\"Return the sum of an array.\n",
        "  Parameters\n",
        "  ----------\n",
        "  A : list\n",
        "      Array.\n",
        "  n : int\n",
        "      Size of array.\n",
        "  \"\"\"\n",
        "  s = 0\n",
        "  for i in range(n):\n",
        "    s = s + A[i]\n",
        "\n",
        "  return s"
      ],
      "execution_count": null,
      "outputs": []
    },
    {
      "cell_type": "code",
      "metadata": {
        "id": "MN7ztIRfTRpu"
      },
      "source": [
        "import time\n",
        "duration_list = []\n",
        "\n",
        "for i in range(10000):\n",
        "  A = [x for x in range(i)]\n",
        "  n = len(A)\n",
        "  start = time.time()\n",
        "  sum(A, n)\n",
        "  duration = time.time() - start\n",
        "  duration_list.append(duration)"
      ],
      "execution_count": null,
      "outputs": []
    },
    {
      "cell_type": "code",
      "metadata": {
        "colab": {
          "base_uri": "https://localhost:8080/",
          "height": 312
        },
        "id": "oPmdayuBUsM6",
        "outputId": "785895e7-1b00-47c2-9bd9-e93ee64638c3"
      },
      "source": [
        "# plot the time complexity function\n",
        "import matplotlib.pyplot as plt\n",
        "\n",
        "plt.plot(duration_list)\n",
        "plt.xlabel('n (array size)')\n",
        "plt.ylabel('time consumption')\n",
        "plt.title('Time complexity of SUM')"
      ],
      "execution_count": null,
      "outputs": [
        {
          "output_type": "execute_result",
          "data": {
            "text/plain": [
              "Text(0.5, 1.0, 'Time complexity of SUM')"
            ]
          },
          "metadata": {},
          "execution_count": 60
        },
        {
          "output_type": "display_data",
          "data": {
            "image/png": "[encoded data removed]",
            "text/plain": [
              "<Figure size 432x288 with 1 Axes>"
            ]
          },
          "metadata": {
            "needs_background": "light"
          }
        }
      ]
    },
    {
      "cell_type": "markdown",
      "metadata": {
        "id": "H1-z1bEXzprA"
      },
      "source": [
        "## Example 3\n",
        "In this section, we will discuss the time complexity and space complexity of the sum of two matrix with the size of n by n. The algorithm is shown below\n",
        "```\n",
        "Algorithm (A, B, n)\n",
        "{\n",
        "  for (i=0; i<n; i++)              --> 1 + (n+1) + n units of time\n",
        "  {\n",
        "    for (j=0; j<n; j++)            --> 1 + (n+1) + n units of time\n",
        "    {\n",
        "      C(i, j) = A(i, j) + B(i, j); --> n unit of time\n",
        "    }\n",
        "  }\n",
        "}\n",
        "```\n",
        "Let us find the time function. Clealy, both statement '*for (i=0; i<n; i++)*' and '*for (j=0; j<n; j++)*' take $2n+2$ units of time. And statement '*C(i, j) = A(i, j) + B(i, j)*' takes n unit of time. For the inside loop, we have $[(2n+2)+(n)]$ units of time. And for the ouside loop, we have another $(2n+2)$ units of time. Thus, the total time function is $[(2n+2)+(n)]*(2n+2)$. The order of this function is 2, then we obtained the time complexity function of $O(n^2)$ for this function.\n",
        "\n",
        "Now, when we insight this big $O$ function, we can know that we can just find the maximum order of each loop and then multipy them together to find the final $O$. The order the outside and inside loop are both $n$ and we can also get the result of $O(n^2)$. It can simplify our calculation. And we will use this simplified method for the following project. \n",
        "\n",
        "Then how much does space the take up? Sum the space consumption up to $3n^2 + 3$, We conclude the space complexity is in the order of 2, noted as $O(n^2)$.\n",
        "\n",
        "varible | space consumption\n",
        "--- | ---\n",
        "A | $n^2$\n",
        "B | $n^2$\n",
        "C | $n^2$\n",
        "i | 1\n",
        "j | 1\n",
        "\n",
        "\n",
        "**Below, I used python to simulate the time addtion function for the sum of two matrix. Obviously, the time function is quadratic.**"
      ]
    },
    {
      "cell_type": "code",
      "metadata": {
        "id": "jqpRYDyC7YM_"
      },
      "source": [
        "def add(A, B, n):\n",
        "  \"\"\"Return the addtion of two matrixes.\n",
        "  Parameters\n",
        "  ----------\n",
        "  A : list\n",
        "      List of a matrix with the size of n by n\n",
        "  n : int\n",
        "      Length of the matrix\n",
        "  \"\"\"\n",
        "  C = [[0] * n ] * n\n",
        "  for i in range(n):\n",
        "    for j in range(n):\n",
        "      C[i][j] = A[i][j] + B[i][j]\n",
        "\n",
        "  return C"
      ],
      "execution_count": null,
      "outputs": []
    },
    {
      "cell_type": "code",
      "metadata": {
        "id": "T-zJkt9z5qPR"
      },
      "source": [
        "import time\n",
        "duration_list = []\n",
        "\n",
        "for n in range(1000):\n",
        "\n",
        "  A = [[0] * (n+1) ] * (n+1)\n",
        "  B = [[0] * (n+1) ] * (n+1)\n",
        "  start = time.time()\n",
        "  add(A, B, n+1)\n",
        "  duration = time.time() - start\n",
        "  duration_list.append(duration)"
      ],
      "execution_count": null,
      "outputs": []
    },
    {
      "cell_type": "code",
      "metadata": {
        "colab": {
          "base_uri": "https://localhost:8080/",
          "height": 312
        },
        "id": "9cuibSbH9hu1",
        "outputId": "2482a071-a322-4a4a-fcf0-0962ba990911"
      },
      "source": [
        "plt.plot(duration_list)\n",
        "plt.xlabel('n (matrix length)')\n",
        "plt.ylabel('time consumption')\n",
        "plt.title('Time complexity function of Addtion')"
      ],
      "execution_count": null,
      "outputs": [
        {
          "output_type": "execute_result",
          "data": {
            "text/plain": [
              "Text(0.5, 1.0, 'Time complexity function of Addtion')"
            ]
          },
          "metadata": {},
          "execution_count": 102
        },
        {
          "output_type": "display_data",
          "data": {
            "image/png": "[encoded data removed]",
            "text/plain": [
              "<Figure size 432x288 with 1 Axes>"
            ]
          },
          "metadata": {
            "needs_background": "light"
          }
        }
      ]
    }
  ]
}