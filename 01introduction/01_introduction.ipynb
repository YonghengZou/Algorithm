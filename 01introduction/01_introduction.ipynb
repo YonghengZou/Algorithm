{
  "nbformat": 4,
  "nbformat_minor": 0,
  "metadata": {
    "colab": {
      "name": "01_introduction.ipynb",
      "provenance": [],
      "collapsed_sections": [],
      "toc_visible": true,
      "authorship_tag": "ABX9TyOzWLu+QsNmAEAOSFVG1DVR"
    },
    "kernelspec": {
      "name": "python3",
      "display_name": "Python 3"
    },
    "language_info": {
      "name": "python"
    }
  },
  "cells": [
    {
      "cell_type": "markdown",
      "metadata": {
        "id": "ltw_h0_syzKf"
      },
      "source": [
        "# Introduction to algorithm\n",
        "\n",
        "\n"
      ]
    },
    {
      "cell_type": "markdown",
      "metadata": {
        "id": "Pmp5732qWgV0"
      },
      "source": [
        "## Motivication\n",
        "Hi, I am going to start a project to review the undergraduate course of algorithm. Algorithm, from my perspective, is one of the hardest course during my bachelor carrer. However, it is so significant for your whole carrer as an eligible technician in the field of computer scicence. I have left algorithm alone for a long time. Now, I plan to start from scratch again to help strenghen my understanding of algrithm. And I would like to learn from the basics to the depth,\n"
      ]
    },
    {
      "cell_type": "markdown",
      "metadata": {
        "id": "fb1nnj_CWndH"
      },
      "source": [
        "## Difference between algorithm and program\n",
        "If you learned the lifecycle of the software development, you would know there are two important phases. One is design phase and anohter is implemention phase. You can not develop and construct anything if your design is based on trial and error. Thus, the first step is to properly design, and then implement your design. For the algorithm, it is actually the step of design. And for the program, it is actually the step of implemention. Moreover, the people who sketch the design should have the domain knowledge of the problem. Let us suppose you are going to develop a software for banking, so the bankers will know the bank better. Who write the program? Programemer. Subsequently, any language can be used for design step, howerver, only programming languages can be used during implemension step such as C++, JAVA and PYTHON. For this project, we will mostly use PYTHON as our tool. In addition, design step is independent from any hardware or mahcine you use, though programs are dependent on operatin systems and hardwares. Finally, you have to evaluate your algorithm. For the phase of designing, we can evaluate it from time and sapce complexity perspective. For the phase of program, just test your program. Here is the table of differences shown below."
      ]
    },
    {
      "cell_type": "code",
      "metadata": {
        "colab": {
          "base_uri": "https://localhost:8080/"
        },
        "id": "QLwRP7PDf-6t",
        "outputId": "c69972b6-dd36-405e-ff5a-326c11816a4d"
      },
      "source": [
        "from prettytable import PrettyTable\n",
        "x = PrettyTable()\n",
        "x.field_names = [\"Algorithm\", \"Program\"]\n",
        "x.add_row([\"Design\", \"Implemention\"])\n",
        "x.add_row([\"Domain knowledger\", \"programmer\"])\n",
        "x.add_row(['Any language','Programming language'])\n",
        "x.add_row(['Hardware & sotfware independent', 'Hareware & software dependent'])\n",
        "print(x)"
      ],
      "execution_count": null,
      "outputs": [
        {
          "output_type": "stream",
          "name": "stdout",
          "text": [
            "+---------------------------------+-------------------------------+\n",
            "|            Algorithm            |            Program            |\n",
            "+---------------------------------+-------------------------------+\n",
            "|              Design             |          Implemention         |\n",
            "|        Domain knowledger        |           programmer          |\n",
            "|           Any language          |      Programming language     |\n",
            "| Hardware & sotfware independent | Hareware & software dependent |\n",
            "+---------------------------------+-------------------------------+\n"
          ]
        }
      ]
    }
  ]
}