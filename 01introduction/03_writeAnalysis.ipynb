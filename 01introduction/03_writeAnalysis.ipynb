{
  "nbformat": 4,
  "nbformat_minor": 0,
  "metadata": {
    "colab": {
      "name": "03_writeAnalysis.ipynb",
      "provenance": [],
      "collapsed_sections": [],
      "authorship_tag": "ABX9TyOLBI4gN729FTpC018IG8Ja"
    },
    "kernelspec": {
      "name": "python3",
      "display_name": "Python 3"
    },
    "language_info": {
      "name": "python"
    }
  },
  "cells": [
    {
      "cell_type": "markdown",
      "metadata": {
        "id": "a-1tdd8eDRNs"
      },
      "source": [
        "# Write and analysis\n",
        "---\n",
        "## 1. How to write an algorithm\n",
        "Now, I have a algotihm for swapping two variables. If you are writing algorithm, you do not have to imply the data types of your input parametes. However, when you write a program, you should clarify your data types. In addition, You can use any symbols to represent your algorithm. For example, you can replace my 'begin-end' below with a pair of brackets and can also replace '=' with '<--'.\n",
        "```\n",
        "Algorithm swap(a, b)\n",
        "begin\n",
        "    temp = a;\n",
        "    a = b;\n",
        "    b = temp;\n",
        "end\n",
        "```\n"
      ]
    },
    {
      "cell_type": "code",
      "metadata": {
        "id": "7F3O-DU8DWrE"
      },
      "source": [
        "def swap(a, b):\n",
        "  \"\"\"Swap two numbers.\n",
        "  Parameters\n",
        "  ----------\n",
        "  a : int\n",
        "      First number.\n",
        "  b : int\n",
        "      Second number.\n",
        "  \"\"\"\n",
        "  temp = a\n",
        "  a = b\n",
        "  b = temp\n",
        "  print(a, b)"
      ],
      "execution_count": null,
      "outputs": []
    },
    {
      "cell_type": "code",
      "metadata": {
        "colab": {
          "base_uri": "https://localhost:8080/"
        },
        "id": "KrSJeW4QJKmc",
        "outputId": "bdee975a-03e7-4877-b817-04e346d6c88c"
      },
      "source": [
        "# test\n",
        "a = 1\n",
        "b = 2\n",
        "swap(a, b)"
      ],
      "execution_count": null,
      "outputs": [
        {
          "output_type": "stream",
          "name": "stdout",
          "text": [
            "2 1\n"
          ]
        }
      ]
    },
    {
      "cell_type": "markdown",
      "metadata": {
        "id": "m8N9liQqkW89"
      },
      "source": [
        "---\n",
        "## 2. How to analyze an algorithm\n",
        "In this section, we will talk about how to justify a algorithm. The first criteria is time. Whatever you write an algorithm on paper or on a machine, how much time it will consume. You do not want to make your algorithm too lengthy and time-consuming. So after writing the algorithm, we need to analyze how much time it will take. That time will be in the form of <font color='red'>function</font>. In addition, we should consider space. since your algorithm will be run a machine, you need to calculate how much memory space it will take. Thus, these are two common measures that we use to analyze algorithms. Further more, if you have any other criteria or factor you want to consider, you could add it. For exmaple, nowadays many applications are internet-based or cloud-based, so data transfer (network consumption) is also important. What's more, many applications are run by handheld devices, such as smart phones and laptops so the power cunsumptio can also be consisered to analyze your algorithm. Lastly, when you are designing device driver, you may want to know how much CPU ann Register your algorithm may consume.\n",
        "\n",
        "`#` | Analysis method\n",
        "--- | ---  \n",
        "1 | Time\n",
        "2 | Space\n",
        "3 | N/W\n",
        "4 | Power\n",
        "5 | Cpu"
      ]
    },
    {
      "cell_type": "markdown",
      "metadata": {
        "id": "hwz2Zf1mtGpV"
      },
      "source": [
        "### Example 1\n",
        "```\n",
        "Algorithm swap(a, b)\n",
        "{\n",
        "    temp = a;   --> 1 unit of time, 1 unit of space\n",
        "    a = b;      --> 1 unit of time, 1 unit of sapce\n",
        "    b = temp;   --> 1 unit of time, 1 unit of space\n",
        "}\n",
        "```\n",
        "Here is an algorithm to show you how to analyze an algorithm from time and space perspective. \n",
        "- **Time:** In an algorithm, each single step consumes 1 unit of time. Thus the time function $T(n) = 3$ for this algorithm. And no matter how complex the statement is, 1 statement can only consume 1 unit of time. For example, '*x = a*3 + b*5*' consumes 1 unit of time. Actually, this statement consumes 3 units of time from a detailed perspective. However, for better generalize the algorithm, we will not go that deep. We assume it takes 1 unit of time.\n",
        "- **Space:** How much variables we used? 3! *a,b and temp*. So $S(N) = 3$\n",
        "\n",
        "And we often replace $T(n) = 3$ and $S(n) = 3$ with $O(1)$, which called order of 1 representing the constant. Thus, for this algorithm, time complexity is $O(1)$ and space complexity is also $O(1)$.\n"
      ]
    }
  ]
}